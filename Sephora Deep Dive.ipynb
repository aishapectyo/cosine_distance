{
 "cells": [
  {
   "cell_type": "code",
   "execution_count": 303,
   "metadata": {},
   "outputs": [],
   "source": [
    "#--- Libraries\n",
    "import pandas as pd\n",
    "import numpy as np\n",
    "from sklearn.metrics.pairwise import cosine_similarity\n",
    "from sklearn.feature_extraction.text import CountVectorizer, TfidfVectorizer\n",
    "from sklearn.neighbors import NearestNeighbors\n",
    "from collections import Counter\n"
   ]
  },
  {
   "cell_type": "code",
   "execution_count": 304,
   "metadata": {},
   "outputs": [
    {
     "data": {
      "text/html": [
       "<div>\n",
       "<style scoped>\n",
       "    .dataframe tbody tr th:only-of-type {\n",
       "        vertical-align: middle;\n",
       "    }\n",
       "\n",
       "    .dataframe tbody tr th {\n",
       "        vertical-align: top;\n",
       "    }\n",
       "\n",
       "    .dataframe thead th {\n",
       "        text-align: right;\n",
       "    }\n",
       "</style>\n",
       "<table border=\"1\" class=\"dataframe\">\n",
       "  <thead>\n",
       "    <tr style=\"text-align: right;\">\n",
       "      <th></th>\n",
       "      <th>category</th>\n",
       "      <th>brand</th>\n",
       "      <th>name</th>\n",
       "      <th>price</th>\n",
       "      <th>rank</th>\n",
       "      <th>ingredients</th>\n",
       "      <th>combo</th>\n",
       "      <th>dry</th>\n",
       "      <th>normal</th>\n",
       "      <th>oily</th>\n",
       "      <th>sensitive</th>\n",
       "    </tr>\n",
       "  </thead>\n",
       "  <tbody>\n",
       "    <tr>\n",
       "      <td>0</td>\n",
       "      <td>Moisturizer</td>\n",
       "      <td>LA MER</td>\n",
       "      <td>Crème de la Mer</td>\n",
       "      <td>175</td>\n",
       "      <td>4.1</td>\n",
       "      <td>Algae (Seaweed) Extract, Mineral Oil, Petrolat...</td>\n",
       "      <td>1</td>\n",
       "      <td>1</td>\n",
       "      <td>1</td>\n",
       "      <td>1</td>\n",
       "      <td>1</td>\n",
       "    </tr>\n",
       "    <tr>\n",
       "      <td>1</td>\n",
       "      <td>Moisturizer</td>\n",
       "      <td>SK-II</td>\n",
       "      <td>Facial Treatment Essence</td>\n",
       "      <td>179</td>\n",
       "      <td>4.1</td>\n",
       "      <td>Galactomyces Ferment Filtrate (Pitera), Butyle...</td>\n",
       "      <td>1</td>\n",
       "      <td>1</td>\n",
       "      <td>1</td>\n",
       "      <td>1</td>\n",
       "      <td>1</td>\n",
       "    </tr>\n",
       "    <tr>\n",
       "      <td>2</td>\n",
       "      <td>Moisturizer</td>\n",
       "      <td>DRUNK ELEPHANT</td>\n",
       "      <td>Protini™ Polypeptide Cream</td>\n",
       "      <td>68</td>\n",
       "      <td>4.4</td>\n",
       "      <td>Water, Dicaprylyl Carbonate, Glycerin, Ceteary...</td>\n",
       "      <td>1</td>\n",
       "      <td>1</td>\n",
       "      <td>1</td>\n",
       "      <td>1</td>\n",
       "      <td>0</td>\n",
       "    </tr>\n",
       "    <tr>\n",
       "      <td>3</td>\n",
       "      <td>Moisturizer</td>\n",
       "      <td>LA MER</td>\n",
       "      <td>The Moisturizing Soft Cream</td>\n",
       "      <td>175</td>\n",
       "      <td>3.8</td>\n",
       "      <td>Algae (Seaweed) Extract, Cyclopentasiloxane, P...</td>\n",
       "      <td>1</td>\n",
       "      <td>1</td>\n",
       "      <td>1</td>\n",
       "      <td>1</td>\n",
       "      <td>1</td>\n",
       "    </tr>\n",
       "    <tr>\n",
       "      <td>4</td>\n",
       "      <td>Moisturizer</td>\n",
       "      <td>IT COSMETICS</td>\n",
       "      <td>Your Skin But Better™ CC+™ Cream with SPF 50+</td>\n",
       "      <td>38</td>\n",
       "      <td>4.1</td>\n",
       "      <td>Water, Snail Secretion Filtrate, Phenyl Trimet...</td>\n",
       "      <td>1</td>\n",
       "      <td>1</td>\n",
       "      <td>1</td>\n",
       "      <td>1</td>\n",
       "      <td>1</td>\n",
       "    </tr>\n",
       "  </tbody>\n",
       "</table>\n",
       "</div>"
      ],
      "text/plain": [
       "      category           brand                                           name  \\\n",
       "0  Moisturizer          LA MER                                Crème de la Mer   \n",
       "1  Moisturizer           SK-II                       Facial Treatment Essence   \n",
       "2  Moisturizer  DRUNK ELEPHANT                     Protini™ Polypeptide Cream   \n",
       "3  Moisturizer          LA MER                    The Moisturizing Soft Cream   \n",
       "4  Moisturizer    IT COSMETICS  Your Skin But Better™ CC+™ Cream with SPF 50+   \n",
       "\n",
       "   price  rank                                        ingredients  combo  dry  \\\n",
       "0    175   4.1  Algae (Seaweed) Extract, Mineral Oil, Petrolat...      1    1   \n",
       "1    179   4.1  Galactomyces Ferment Filtrate (Pitera), Butyle...      1    1   \n",
       "2     68   4.4  Water, Dicaprylyl Carbonate, Glycerin, Ceteary...      1    1   \n",
       "3    175   3.8  Algae (Seaweed) Extract, Cyclopentasiloxane, P...      1    1   \n",
       "4     38   4.1  Water, Snail Secretion Filtrate, Phenyl Trimet...      1    1   \n",
       "\n",
       "   normal  oily  sensitive  \n",
       "0       1     1          1  \n",
       "1       1     1          1  \n",
       "2       1     1          0  \n",
       "3       1     1          1  \n",
       "4       1     1          1  "
      ]
     },
     "execution_count": 304,
     "metadata": {},
     "output_type": "execute_result"
    }
   ],
   "source": [
    "#--- Load data\n",
    "df = pd.read_csv(\"sephora_data.csv\")\n",
    "df.head()"
   ]
  },
  {
   "cell_type": "code",
   "execution_count": 305,
   "metadata": {},
   "outputs": [],
   "source": [
    "#--- User-defined functions\n",
    "def get_recommendations(title, cosine_sim = cosine_sim):\n",
    "    #Source: https://gist.github.com/emmagrimaldi/4e33c0091d2294b04c063b552925fe5f#file-recommender-py\n",
    "    \n",
    "    # initializing the empty list of recommended products\n",
    "    recommended_products = []\n",
    "    #gettin the index of the product that matches the name\n",
    "    idx = indices[indices == title].index[0]\n",
    "    #creating a Series with the similarity scores in descending order\n",
    "    score_series = pd.Series(cosine_sim[idx]).sort_values(ascending = False)\n",
    "    #getting the indexes of the 10 most similar products\n",
    "    top_10_indexes = list(score_series.iloc[1:11].index)\n",
    "    #populating the list with the names of the best 10 matching products\n",
    "    for i in top_10_indexes:\n",
    "        recommended_products.append(list(df.name)[i])\n",
    "        \n",
    "    return recommended_products\n",
    "\n",
    "def sanitize_text(df, col):\n",
    "    df[col+' Cleaned'] = df[col].str.replace(r\"[^A-Za-z0-9(),!?@™\\'\\`\\\"\\_\\n]\", \" \")\n",
    "    df[col+' Cleaned'] = df[col+' Cleaned'].replace('[^\\w\\s]', '')\n",
    "    df[col+' Cleaned'] = df[col+' Cleaned'].str.lower()\n",
    "    return df\n"
   ]
  },
  {
   "cell_type": "markdown",
   "metadata": {},
   "source": [
    "### data exploration"
   ]
  },
  {
   "cell_type": "code",
   "execution_count": 306,
   "metadata": {},
   "outputs": [
    {
     "data": {
      "text/plain": [
       "category\n",
       "Cleanser       32.601423\n",
       "Eye cream      63.602871\n",
       "Face Mask      42.624060\n",
       "Moisturizer    69.087248\n",
       "Sun protect    45.905882\n",
       "Treatment      79.177419\n",
       "Name: price, dtype: float64"
      ]
     },
     "execution_count": 306,
     "metadata": {},
     "output_type": "execute_result"
    }
   ],
   "source": [
    "#--- Average price for each category.\n",
    "df.groupby('category')['price'].mean()"
   ]
  },
  {
   "cell_type": "code",
   "execution_count": 307,
   "metadata": {},
   "outputs": [
    {
     "data": {
      "text/plain": [
       "category\n",
       "Cleanser       4.312456\n",
       "Eye cream      3.806220\n",
       "Face Mask      4.166917\n",
       "Moisturizer    4.238591\n",
       "Sun protect    4.051176\n",
       "Treatment      4.218145\n",
       "Name: rank, dtype: float64"
      ]
     },
     "execution_count": 307,
     "metadata": {},
     "output_type": "execute_result"
    }
   ],
   "source": [
    "#--- Average rating for each category.\n",
    "df.groupby('category')['rank'].mean()"
   ]
  },
  {
   "cell_type": "markdown",
   "metadata": {},
   "source": [
    "No significant difference in rating based on skin type."
   ]
  },
  {
   "cell_type": "code",
   "execution_count": 308,
   "metadata": {},
   "outputs": [
    {
     "data": {
      "text/plain": [
       "0.44972826086956524"
      ]
     },
     "execution_count": 308,
     "metadata": {},
     "output_type": "execute_result"
    }
   ],
   "source": [
    "len(df[(df['normal']==1) & (df['oily']==1) & (df['sensitive']==1) & (df['dry']==1)])/float(len(df['category']))"
   ]
  },
  {
   "cell_type": "markdown",
   "metadata": {},
   "source": [
    "Pretty even distribution per number of products per skin type. 10 pps less for sensitive skin. Yet, almost half of all products are marketed for all skin types. I am always skeptical of products marketed for all skin types - I mean are they really? I am no dermatologist though."
   ]
  },
  {
   "cell_type": "code",
   "execution_count": 309,
   "metadata": {},
   "outputs": [
    {
     "data": {
      "text/plain": [
       "[(' Glycerin', 5),\n",
       " (' Phenoxyethanol', 5),\n",
       " (' Glyceryl Stearate', 3),\n",
       " (' Caprylyl Glycol', 3),\n",
       " (' Silica', 3),\n",
       " (' Glycerin ', 2),\n",
       " (' Petrolatum ', 2),\n",
       " (' Sodium Hyaluronate ', 2),\n",
       " (' Butylene Glycol ', 2),\n",
       " (' Stearic Acid', 2)]"
      ]
     },
     "execution_count": 309,
     "metadata": {},
     "output_type": "execute_result"
    }
   ],
   "source": [
    "#Overall ingredients by skin type, strict\n",
    "Counter(\" \".join(df[(df['dry']==1) & (df['normal']==0) & (df['oily']==0) & (df['sensitive']==0)]['ingredients']).split(',')).most_common(10)\n"
   ]
  },
  {
   "cell_type": "code",
   "execution_count": 310,
   "metadata": {},
   "outputs": [
    {
     "data": {
      "text/plain": [
       "[(' Glycerin', 5),\n",
       " (' Dimethicone', 3),\n",
       " (' Phenoxyethanol', 3),\n",
       " (' Lavandula Angustifolia (Lavender) Oil', 3),\n",
       " (' Caprylyl Glycol', 2),\n",
       " (' Chlorphenesin', 2),\n",
       " (' Tetrasodium Edta', 2),\n",
       " (' Tocopheryl Acetate', 2),\n",
       " (' Caprylic/Capric Triglyceride', 2),\n",
       " (' Glycol Distearate', 2)]"
      ]
     },
     "execution_count": 310,
     "metadata": {},
     "output_type": "execute_result"
    }
   ],
   "source": [
    "Counter(\" \".join(df[(df['dry']==0) & (df['normal']==1) & (df['oily']==0) & (df['sensitive']==0)]['ingredients']).split(',')).most_common(10)\n"
   ]
  },
  {
   "cell_type": "code",
   "execution_count": 311,
   "metadata": {},
   "outputs": [
    {
     "data": {
      "text/plain": [
       "[(' Butylene Glycol', 13),\n",
       " (' Phenoxyethanol', 12),\n",
       " (' Glycerin', 12),\n",
       " (' Sodium Hydroxide', 7),\n",
       " (' Xanthan Gum', 6),\n",
       " (' Phenoxyethanol ', 5),\n",
       " (' Tocopheryl Acetate', 5),\n",
       " (' Glycolic Acid', 5),\n",
       " (' Ethylhexylglycerin', 5),\n",
       " (' Alcohol', 5)]"
      ]
     },
     "execution_count": 311,
     "metadata": {},
     "output_type": "execute_result"
    }
   ],
   "source": [
    "Counter(\" \".join(df[(df['dry']==0) & (df['normal']==0) & (df['oily']==1) & (df['sensitive']==0)]['ingredients']).split(',')).most_common(10)\n"
   ]
  },
  {
   "cell_type": "code",
   "execution_count": 312,
   "metadata": {},
   "outputs": [
    {
     "data": {
      "text/plain": [
       "[(' Camellia Sinensis Leaf Extract', 2),\n",
       " (' Achillea Millefolium Extract', 2),\n",
       " (' Soy Isoflavones', 2),\n",
       " (' Copper PCA', 2),\n",
       " (' Zinc PCA', 2),\n",
       " (' Caprylic/Capric Triglyceride', 2),\n",
       " (' Polysorbate 20', 2),\n",
       " (' Phenoxyethanol', 2),\n",
       " ('-Lactic Acid: Supports natural cell turnover and cell renewal.\\r\\r\\n-Mandelic Acid: Possesses anti-irritation an anti-redness properties.\\r\\r\\n-Willow Bark Extract: Gently exfoliates and clears pores (contains salicylic acid).\\r\\r\\n-Colloidal Oatmeal: Acts as an anti-irritant and anti-inflammatory.\\r\\r\\n\\r\\r\\nStep One:\\r\\r\\nWater',\n",
       "  1),\n",
       " (' Hamamelis Virginiana (Witch Hazel) Water', 1)]"
      ]
     },
     "execution_count": 312,
     "metadata": {},
     "output_type": "execute_result"
    }
   ],
   "source": [
    "Counter(\" \".join(df[(df['dry']==0) & (df['normal']==0) & (df['oily']==0) & (df['sensitive']==1)]['ingredients']).split(',')).most_common(10)\n"
   ]
  },
  {
   "cell_type": "code",
   "execution_count": 313,
   "metadata": {},
   "outputs": [
    {
     "data": {
      "text/plain": [
       "[(' Glycerin', 84),\n",
       " (' Butylene Glycol', 70),\n",
       " (' Phenoxyethanol', 64),\n",
       " (' Dimethicone', 53),\n",
       " (' Sodium Hyaluronate', 50),\n",
       " (' Caprylic/Capric Triglyceride', 46),\n",
       " (' Limonene', 43),\n",
       " (' Xanthan Gum', 41),\n",
       " (' Fragrance', 39),\n",
       " (' Disodium Edta', 38)]"
      ]
     },
     "execution_count": 313,
     "metadata": {},
     "output_type": "execute_result"
    }
   ],
   "source": [
    "#Look at price bracket and ingredients\n",
    "Counter(\" \".join(df[df['price']>=100]['ingredients']).split(',')).most_common(10)\n"
   ]
  },
  {
   "cell_type": "code",
   "execution_count": 314,
   "metadata": {},
   "outputs": [
    {
     "data": {
      "text/plain": [
       "[(' Glycerin', 806),\n",
       " (' Phenoxyethanol', 633),\n",
       " (' Butylene Glycol', 623),\n",
       " (' Caprylyl Glycol', 366),\n",
       " (' Sodium Hyaluronate', 353),\n",
       " (' Ethylhexylglycerin', 339),\n",
       " (' Xanthan Gum', 338),\n",
       " (' Dimethicone', 321),\n",
       " (' Tocopheryl Acetate', 315),\n",
       " (' Citric Acid', 303)]"
      ]
     },
     "execution_count": 314,
     "metadata": {},
     "output_type": "execute_result"
    }
   ],
   "source": [
    "Counter(\" \".join(df[df['price']<100]['ingredients']).split(',')).most_common(10)\n"
   ]
  },
  {
   "cell_type": "code",
   "execution_count": 315,
   "metadata": {},
   "outputs": [
    {
     "data": {
      "text/plain": [
       "[(' Glycerin', 843),\n",
       " (' Phenoxyethanol', 658),\n",
       " (' Butylene Glycol', 653),\n",
       " (' Caprylyl Glycol', 381),\n",
       " (' Sodium Hyaluronate', 380),\n",
       " (' Ethylhexylglycerin', 361),\n",
       " (' Xanthan Gum', 358),\n",
       " (' Dimethicone', 358),\n",
       " (' Tocopheryl Acetate', 335),\n",
       " (' Citric Acid', 303)]"
      ]
     },
     "execution_count": 315,
     "metadata": {},
     "output_type": "execute_result"
    }
   ],
   "source": [
    "#Look at rank bracket and ingredients\n",
    "Counter(\" \".join(df[df['rank']>=3.5]['ingredients']).split(',')).most_common(10)\n"
   ]
  },
  {
   "cell_type": "code",
   "execution_count": 316,
   "metadata": {},
   "outputs": [
    {
     "data": {
      "text/plain": [
       "[(' Glycerin', 47),\n",
       " (' Butylene Glycol', 40),\n",
       " (' Phenoxyethanol', 39),\n",
       " (' Sodium Hyaluronate', 23),\n",
       " (' Xanthan Gum', 21),\n",
       " (' Caprylyl Glycol', 21),\n",
       " (' Citric Acid', 19),\n",
       " (' Sodium Benzoate', 18),\n",
       " (' Dimethicone', 16),\n",
       " (' Carbomer', 16)]"
      ]
     },
     "execution_count": 316,
     "metadata": {},
     "output_type": "execute_result"
    }
   ],
   "source": [
    "Counter(\" \".join(df[df['rank']<3.5]['ingredients']).split(',')).most_common(10)\n"
   ]
  },
  {
   "cell_type": "markdown",
   "metadata": {},
   "source": [
    "### cosine similarities"
   ]
  },
  {
   "cell_type": "code",
   "execution_count": 317,
   "metadata": {},
   "outputs": [],
   "source": [
    "#--- Prepare text and future df\n",
    "df = sanitize_text(df, \"ingredients\")\n",
    "indices = pd.Series(df.name) #to track the name of the product within the matrix\n"
   ]
  },
  {
   "cell_type": "code",
   "execution_count": 320,
   "metadata": {
    "scrolled": false
   },
   "outputs": [
    {
     "data": {
      "text/plain": [
       "['Rose Deep Hydration Facial Toner',\n",
       " 'Rose Face Mask',\n",
       " 'Rose Stem Cell Bio-Repair Gel Mask',\n",
       " 'Face Mask - Rose - Moisturizing',\n",
       " 'Soy Face Cleanser',\n",
       " 'Rose Cleansing Foam',\n",
       " 'Rose Deep Hydration Face Serum',\n",
       " 'Dermaclear™ Micro Water',\n",
       " 'Rose Deep Hydration Moisturizer',\n",
       " 'Keep Young And Beautiful™ Instant Brightening Beauty Shot Eye Lift']"
      ]
     },
     "execution_count": 320,
     "metadata": {},
     "output_type": "execute_result"
    }
   ],
   "source": [
    "count = CountVectorizer()\n",
    "count_matrix = count.fit_transform(df['ingredients Cleaned'])\n",
    "\n",
    "cosine_sim = cosine_similarity(count_matrix, count_matrix)\n",
    "get_recommendations('Rose Deep Hydration Facial Toner')"
   ]
  },
  {
   "cell_type": "code",
   "execution_count": 321,
   "metadata": {},
   "outputs": [
    {
     "data": {
      "text/plain": [
       "['Rose Deep Hydration Facial Toner',\n",
       " 'Rose Face Mask',\n",
       " 'Rose Stem Cell Bio-Repair Gel Mask',\n",
       " 'Face Mask - Rose - Moisturizing',\n",
       " 'Soy Face Cleanser',\n",
       " 'Rose Cleansing Foam',\n",
       " 'Rose Deep Hydration Face Serum',\n",
       " 'Dermaclear™ Micro Water',\n",
       " 'Rose Deep Hydration Moisturizer',\n",
       " 'Keep Young And Beautiful™ Instant Brightening Beauty Shot Eye Lift']"
      ]
     },
     "execution_count": 321,
     "metadata": {},
     "output_type": "execute_result"
    }
   ],
   "source": [
    "count = TfidfVectorizer()\n",
    "count_matrix = count.fit_transform(df['ingredients Cleaned'])\n",
    "\n",
    "cosine_sim = cosine_similarity(count_matrix, count_matrix)\n",
    "get_recommendations('Rose Deep Hydration Facial Toner')"
   ]
  },
  {
   "cell_type": "code",
   "execution_count": null,
   "metadata": {},
   "outputs": [],
   "source": []
  }
 ],
 "metadata": {
  "kernelspec": {
   "display_name": "Python 3",
   "language": "python",
   "name": "python3"
  },
  "language_info": {
   "codemirror_mode": {
    "name": "ipython",
    "version": 3
   },
   "file_extension": ".py",
   "mimetype": "text/x-python",
   "name": "python",
   "nbconvert_exporter": "python",
   "pygments_lexer": "ipython3",
   "version": "3.7.4"
  }
 },
 "nbformat": 4,
 "nbformat_minor": 2
}
